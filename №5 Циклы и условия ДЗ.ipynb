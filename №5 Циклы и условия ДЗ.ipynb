{
 "cells": [
  {
   "cell_type": "markdown",
   "metadata": {
    "colab_type": "text",
    "id": "X9wfb-pqPzYu"
   },
   "source": [
    "# Циклы и условия\n",
    "\n",
    "## Домашняя работа\n",
    "Эта домашняя работа должна быть решена **БЕЗ** использования готовых функций (если именно они «решают» задачу) и сторонних библиотек. Используйте циклы и условия."
   ]
  },
  {
   "cell_type": "markdown",
   "metadata": {
    "colab_type": "text",
    "id": "LWsFp-lTB1SY"
   },
   "source": [
    "**Цель блока заданий:** в данном блоке задач вы потренируетесь использовать циклы и условные операторы для решения практических задач.\n",
    "\n",
    "**Критерии оценки:** задания считаются выполненными, если программа выводит корректный ответ."
   ]
  },
  {
   "cell_type": "markdown",
   "metadata": {
    "colab_type": "text",
    "id": "DMpu8uUoPzY0"
   },
   "source": [
    "## 1\n",
    "\n",
    "Напишите программу, которая будет запрашивать на вход числа (через запятую на одной строке) и выводить наибольшее значение из списка.\n",
    "<br><br>\n",
    "*Ограничение: нельзя пользоваться готовой функцией для нахождения максимума (например, `max()`), готовыми функциями и методами сортировки (например, `sort()`,`sorted()`), функцией set().*\n",
    "<br>\n",
    "<br>\n",
    "*Формат ввода:* <br>\n",
    "1, 2, 3, 6, 7<br><br>\n",
    "\n",
    "*Формат вывода:* <br>\n",
    "7"
   ]
  },
  {
   "cell_type": "markdown",
   "metadata": {
    "colab_type": "text",
    "id": "jc-6GNtHB1SZ"
   },
   "source": [
    "**Рекомендации к выполнению задания:** попробуйте создать переменную, в которой будете хранить максимум. Итерируя по списку входных значений, сравните максимум с каждым элементом. В случае, если элемент оказался больше максимума, присвойте данной переменной новое значение."
   ]
  },
  {
   "cell_type": "code",
   "execution_count": 53,
   "metadata": {
    "colab": {},
    "colab_type": "code",
    "id": "dHs34-p-PzY3"
   },
   "outputs": [
    {
     "name": "stdout",
     "output_type": "stream",
     "text": [
      "Введите пять цифр через запятую: 220, 1100, 3, 0, 530\n"
     ]
    }
   ],
   "source": [
    "### YOUR CODE HERE ###\n",
    "A, B, C, D, E = input(\"Введите пять цифр через запятую: \").split(', ')"
   ]
  },
  {
   "cell_type": "code",
   "execution_count": 54,
   "metadata": {},
   "outputs": [
    {
     "name": "stdout",
     "output_type": "stream",
     "text": [
      "1100\n"
     ]
    }
   ],
   "source": [
    "if int(A) > int(B):\n",
    "    max1 = int(A)\n",
    "elif int(A) == int(B):\n",
    "    pass\n",
    "elif int(A) < int(B):\n",
    "    max1 = int(B)\n",
    "if max1 > int(C):\n",
    "    pass\n",
    "elif max1 == int(C):\n",
    "    pass\n",
    "elif max1 < int(C):\n",
    "    max1 = int(C)\n",
    "if max1 > int(D):\n",
    "    pass\n",
    "elif max1 == int(D):\n",
    "    pass\n",
    "elif max1 < int(D):\n",
    "    max1 = int(D)\n",
    "if max1 > int(E):\n",
    "    pass\n",
    "elif max1 == int(E):\n",
    "    pass\n",
    "elif max1 < int(E):\n",
    "    max1 = int(E)\n",
    "print(max1)"
   ]
  },
  {
   "cell_type": "code",
   "execution_count": 64,
   "metadata": {},
   "outputs": [
    {
     "name": "stdout",
     "output_type": "stream",
     "text": [
      "Введите пять цифр через запятую: 101, 23, 1, 64, 100\n",
      "101\n"
     ]
    }
   ],
   "source": [
    "my_list = input(\"Введите пять цифр через запятую: \").split(', ')\n",
    "\n",
    "n = my_list[0]\n",
    "for i in my_list:\n",
    "    if int(i) > int(n):\n",
    "        n = i\n",
    "print(n)"
   ]
  },
  {
   "cell_type": "markdown",
   "metadata": {
    "colab_type": "text",
    "id": "sCF9Hd9rPzZD"
   },
   "source": [
    "### 2\n",
    "\n",
    "Напишите программу, которая будет запрашивать на вход числа (каждое с новой строки) до тех пор, пока не будет введён ноль (0). На выход должно выводиться второе по величине значение.\n",
    "<br><br>\n",
    "*Ограничение: нельзя пользоваться готовой функцией для нахождения максимума (например, `max()`), готовыми функциями и методами сортировки (например, `sort()`,`sorted()`).*\n",
    "<br><br>\n",
    "*Формат ввода:* <br>\n",
    "4<br>\n",
    "6<br>\n",
    "7<br>\n",
    "7<br>\n",
    "0\n",
    "<br><br>\n",
    "\n",
    "*Формат вывода:* <br>\n",
    "6"
   ]
  },
  {
   "cell_type": "markdown",
   "metadata": {
    "colab_type": "text",
    "id": "3wgCKyz8B1Se"
   },
   "source": [
    "**Рекомендации к выполнению задания:** попробуйте реализовать идею решения из предыдущего задания, используя две переменные для хранения максимумов."
   ]
  },
  {
   "cell_type": "code",
   "execution_count": 143,
   "metadata": {
    "colab": {},
    "colab_type": "code",
    "id": "yrJk-mEjPzZF",
    "scrolled": true
   },
   "outputs": [
    {
     "name": "stdout",
     "output_type": "stream",
     "text": [
      "10\n",
      "100\n",
      "60\n",
      "30\n",
      "22\n",
      "0\n",
      "Конец цикла\n"
     ]
    }
   ],
   "source": [
    "### YOUR CODE HERE ###\n",
    "f1 = []\n",
    "i = True\n",
    "while i != 0:\n",
    "    if i == 0:\n",
    "        print(i)\n",
    "        break\n",
    "    i = int(input())\n",
    "    if i: f1.append(i)\n",
    "else:\n",
    "    print(\"Конец цикла\")"
   ]
  },
  {
   "cell_type": "code",
   "execution_count": 144,
   "metadata": {
    "scrolled": true
   },
   "outputs": [
    {
     "name": "stdout",
     "output_type": "stream",
     "text": [
      "60\n"
     ]
    }
   ],
   "source": [
    "n = f1[0]\n",
    "k = f1[0]\n",
    "for i in f1:\n",
    "    if int(i) > int(n):\n",
    "        n = i\n",
    "for i in f1:\n",
    "    if int(k) < int(i) < int(n):\n",
    "        k = i\n",
    "print(k)"
   ]
  },
  {
   "cell_type": "code",
   "execution_count": 2,
   "metadata": {},
   "outputs": [
    {
     "name": "stdout",
     "output_type": "stream",
     "text": [
      "10\n",
      "100\n",
      "60\n",
      "30\n",
      "22\n",
      "0\n",
      "60\n"
     ]
    }
   ],
   "source": [
    "#От преподавателя\n",
    "max1 = 0\n",
    "max2 = 0\n",
    "n = int(input())\n",
    "while n != 0:\n",
    "    if n > max1:\n",
    "        max1, max2 = n, max1\n",
    "    elif n > max2 and n != max1:\n",
    "        max2 = n\n",
    "    n = int(input())\n",
    "print(max2)"
   ]
  },
  {
   "cell_type": "markdown",
   "metadata": {
    "colab_type": "text",
    "id": "fdJZMUtGPzZN"
   },
   "source": [
    "### 3\n",
    "\n",
    "Напишите программу, которая принимает на вход год, а на выход выдаёт количество дней в этом году.\n",
    "<br><br>\n",
    "*Формат ввода:* <br>\n",
    "2020<br><br>\n",
    "\n",
    "*Формат вывода:* <br>\n",
    "366"
   ]
  },
  {
   "cell_type": "markdown",
   "metadata": {
    "colab_type": "text",
    "id": "3RIf28qDB1Sh"
   },
   "source": [
    "**Рекомендации к выполнению задания:** вспомните свойство делимости для високосных годов."
   ]
  },
  {
   "cell_type": "code",
   "execution_count": 60,
   "metadata": {
    "colab": {},
    "colab_type": "code",
    "id": "Dk6PDx-jPzZP"
   },
   "outputs": [
    {
     "name": "stdout",
     "output_type": "stream",
     "text": [
      "Введите год: 1990\n"
     ]
    }
   ],
   "source": [
    "### YOUR CODE HERE ###\n",
    "year = int(input(\"Введите год: \"))"
   ]
  },
  {
   "cell_type": "code",
   "execution_count": 62,
   "metadata": {},
   "outputs": [
    {
     "name": "stdout",
     "output_type": "stream",
     "text": [
      "365\n"
     ]
    }
   ],
   "source": [
    "if year % 4 == 0:\n",
    "    print(\"366\")\n",
    "elif year % 4 != 0:\n",
    "    print(\"365\")"
   ]
  },
  {
   "cell_type": "markdown",
   "metadata": {
    "colab_type": "text",
    "id": "wFGBh0dYPzZV"
   },
   "source": [
    "### 4\n",
    "\n",
    "Напишите программу, которая на вход получает координаты двух клеток шахматной доски и выводит соощение о том, являются ли эти клетки одного цвета.\n",
    "<br><br>\n",
    "*Формат ввода:* <br>\n",
    "c2<br>\n",
    "e4<br><br>\n",
    "\n",
    "*Формат вывода:* <br>\n",
    "Клетки одинакового цвета"
   ]
  },
  {
   "cell_type": "markdown",
   "metadata": {
    "colab_type": "text",
    "id": "_VJtexxXB1Sk"
   },
   "source": [
    "**Рекомендации к выполнению задания:** попробуйте заметить закономерность о чётности и нечётности суммы координат клеток, если считать, что координаты клеток задаются только цифрами от 1 до 8. "
   ]
  },
  {
   "cell_type": "code",
   "execution_count": 130,
   "metadata": {
    "colab": {},
    "colab_type": "code",
    "id": "k-8POcqGPzZW"
   },
   "outputs": [
    {
     "name": "stdout",
     "output_type": "stream",
     "text": [
      "Введите первое поле в формате х1: a1\n",
      "Введите второе поле в формате х1: h3\n"
     ]
    }
   ],
   "source": [
    "### YOUR CODE HERE ###\n",
    "cell_1 = input(\"Введите первое поле в формате х1: \")\n",
    "cell_2 = input(\"Введите второе поле в формате х1: \")"
   ]
  },
  {
   "cell_type": "code",
   "execution_count": 152,
   "metadata": {},
   "outputs": [
    {
     "name": "stdout",
     "output_type": "stream",
     "text": [
      "Клетки разного цвета\n"
     ]
    }
   ],
   "source": [
    "n = str(cell_1[0])\n",
    "k = int(cell_1[1])\n",
    "m = str(cell_2[0])\n",
    "p = int(cell_2[1])\n",
    "# для первого поля #\n",
    "if n == str(\"a\"):\n",
    "    x = int(1)\n",
    "elif n == str(\"c\"):\n",
    "    x = int(1)\n",
    "elif n == str(\"e\"):\n",
    "    x = int(1)\n",
    "elif n == str(\"g\"):\n",
    "    x = int(1)\n",
    "else:\n",
    "    x = 2\n",
    "# для второго поля #\n",
    "if m == str(\"a\"):\n",
    "    y = int(1)\n",
    "elif m == str(\"c\"):\n",
    "    y = int(1)\n",
    "elif m == str(\"e\"):\n",
    "    y = int(1)\n",
    "elif m == str(\"g\"):\n",
    "    y = int(1)\n",
    "else:\n",
    "    y = 2\n",
    "# конечная функция #  \n",
    "if (x + k) % 2 == (y + p) % 2:\n",
    "    print(\"Клетки одинакового цвета\")\n",
    "else:\n",
    "    print(\"Клетки разного цвета\")"
   ]
  },
  {
   "cell_type": "code",
   "execution_count": 138,
   "metadata": {},
   "outputs": [
    {
     "name": "stdout",
     "output_type": "stream",
     "text": [
      "Введите первое поле в формате 11: 52\n",
      "Введите второе поле в формате 11: 41\n"
     ]
    }
   ],
   "source": [
    "cell_1 = input(\"Введите первое поле в формате 11: \")\n",
    "cell_2 = input(\"Введите второе поле в формате 11: \")"
   ]
  },
  {
   "cell_type": "code",
   "execution_count": 141,
   "metadata": {},
   "outputs": [
    {
     "name": "stdout",
     "output_type": "stream",
     "text": [
      "Клетки одинакового цвета\n"
     ]
    }
   ],
   "source": [
    "n = int(cell_1[0])\n",
    "k = int(cell_1[1])\n",
    "m = int(cell_2[0])\n",
    "p = int(cell_2[1])\n",
    "if (n + k) % 2 == (m + p) % 2:\n",
    "    print(\"Клетки одинакового цвета\")\n",
    "else:\n",
    "    print(\"Клетки разного цвета\")"
   ]
  },
  {
   "cell_type": "code",
   "execution_count": 150,
   "metadata": {},
   "outputs": [
    {
     "name": "stdout",
     "output_type": "stream",
     "text": [
      "Введите первое поле в формате x1: c5\n",
      "Введите второе поле в формате x1: e6\n"
     ]
    }
   ],
   "source": [
    "cell_1 = input(\"Введите первое поле в формате x1: \")\n",
    "cell_2 = input(\"Введите второе поле в формате x1: \")"
   ]
  },
  {
   "cell_type": "code",
   "execution_count": 151,
   "metadata": {},
   "outputs": [
    {
     "name": "stdout",
     "output_type": "stream",
     "text": [
      "Клетки разного цвета\n"
     ]
    }
   ],
   "source": [
    "n = str(cell_1[0])\n",
    "k = int(cell_1[1])\n",
    "m = str(cell_2[0])\n",
    "p = int(cell_2[1])\n",
    "# для первого поля #\n",
    "if (n == str(\"a\")) or (n == str(\"c\")) or (n == str(\"e\")) or (n == str(\"g\")):\n",
    "    x = int(1)\n",
    "else:\n",
    "    x = int(2)\n",
    "# для второго поля #\n",
    "if (m == str(\"a\")) or (m == str(\"c\")) or (m == str(\"e\")) or (m == str(\"g\")):\n",
    "    y = int(1)\n",
    "else:\n",
    "    y = int(2)\n",
    "# конечная функция #  \n",
    "if (x + k) % 2 == (y + p) % 2:\n",
    "    print(\"Клетки одинакового цвета\")\n",
    "else:\n",
    "    print(\"Клетки разного цвета\")"
   ]
  },
  {
   "cell_type": "code",
   "execution_count": 5,
   "metadata": {},
   "outputs": [
    {
     "name": "stdout",
     "output_type": "stream",
     "text": [
      "Введите координаты первой клетки: c4\n",
      "Введите координаты второй клетки: e3\n",
      "Клетки разного цвета\n"
     ]
    }
   ],
   "source": [
    "#От преподавателя\n",
    "Chars = {'a' :  1, 'b' : 2, 'c' : 3, 'd' : 4, 'e' : 5, 'f' : 6, 'g' : 7, 'h' : 8}\n",
    "char1, num1 = list(input('Введите координаты первой клетки: '))\n",
    "char2, num2 = list(input('Введите координаты второй клетки: '))\n",
    "sum_of_chars = Chars[char1] + Chars[char2]\n",
    "sum_of_nums = int(num1) + int(num2)\n",
    "if (sum_of_chars % 2 == 0 and sum_of_nums % 2 == 0) or (sum_of_chars % 2 != 0 and sum_of_nums % 2 != 0):\n",
    "    print('Клетки одинакового цвета')\n",
    "else:\n",
    "    print('Клетки разного цвета')"
   ]
  },
  {
   "cell_type": "markdown",
   "metadata": {
    "colab_type": "text",
    "id": "O594rz0tPzZb"
   },
   "source": [
    "### 5\n",
    "\n",
    "Напишите программу, которая на вход получает число, а на выходе сообщает, простое это число или составное.\n",
    "<br><br>\n",
    "*Формат ввода:* <br>\n",
    "169<br><br>\n",
    "\n",
    "*Формат вывода:* <br>\n",
    "Составное число"
   ]
  },
  {
   "cell_type": "markdown",
   "metadata": {
    "colab_type": "text",
    "id": "NQjUV04_B1So"
   },
   "source": [
    "**Рекомендации к выполнению задания:** помните, что простых чисел бесконечно много, а любое произведение простых чисел даёт составное число. "
   ]
  },
  {
   "cell_type": "code",
   "execution_count": 22,
   "metadata": {
    "colab": {},
    "colab_type": "code",
    "id": "-Oy1AesyPzZd"
   },
   "outputs": [
    {
     "name": "stdout",
     "output_type": "stream",
     "text": [
      "Введите число: 167\n"
     ]
    }
   ],
   "source": [
    "### YOUR CODE HERE ###\n",
    "number = int(input(\"Введите число: \"))"
   ]
  },
  {
   "cell_type": "code",
   "execution_count": 23,
   "metadata": {},
   "outputs": [
    {
     "name": "stdout",
     "output_type": "stream",
     "text": [
      "Простое число\n"
     ]
    }
   ],
   "source": [
    "for i in range(2,(number - 1)):\n",
    "    if (number % i) == 0:\n",
    "        print(\"Составное число\")\n",
    "        break\n",
    "else:\n",
    "    print(\"Простое число\")"
   ]
  },
  {
   "cell_type": "markdown",
   "metadata": {
    "colab_type": "text",
    "id": "QzBAQaW8PzZg"
   },
   "source": [
    "### 6\n",
    "\n",
    "Напишите программу, которая на вход получает целое число больше 2 и выводит по нему его наименьший натуральный делитель, отличный от 1.\n",
    "<br><br>\n",
    "*Формат ввода:* <br>\n",
    "169<br><br>\n",
    "\n",
    "*Формат вывода:* <br>\n",
    "13"
   ]
  },
  {
   "cell_type": "code",
   "execution_count": 56,
   "metadata": {
    "colab": {},
    "colab_type": "code",
    "id": "Z2QzgAYKPzZi"
   },
   "outputs": [
    {
     "name": "stdout",
     "output_type": "stream",
     "text": [
      "Введите число больше 2: 289\n"
     ]
    }
   ],
   "source": [
    "### YOUR CODE HERE ###\n",
    "number = int(input(\"Введите число больше 2: \"))\n"
   ]
  },
  {
   "cell_type": "code",
   "execution_count": 57,
   "metadata": {},
   "outputs": [
    {
     "name": "stdout",
     "output_type": "stream",
     "text": [
      "17\n"
     ]
    }
   ],
   "source": [
    "for i in range(2,(number - 1)):\n",
    "    if (number % i) == 0:\n",
    "        print(i)\n",
    "        break\n",
    "else:\n",
    "    print(\"Наименьший натуральный делитель отличный от 1: \", number)"
   ]
  },
  {
   "cell_type": "markdown",
   "metadata": {
    "colab_type": "text",
    "id": "Mdg_IAfFPzZk"
   },
   "source": [
    "### 7\n",
    "\n",
    "Напишите программу, которая поможет составить план тренировок для подготовки к марафону. Она получает на вход число километров на планируемом марафоне, сколько пользователь планирует пробежать в первый день тренировок и на сколько процентов планирует увеличивать каждый день это расстояние. На выходе программа должна выдавать, сколько дней пользователю потребуется для того, чтобы подготовиться пробежать целевое количество километров.\n",
    "<br><br>\n",
    "*Ограничение: нельзя пользоваться функцией `ceil()` из модуля `math` и её аналогами.*\n",
    "<br><br>\n",
    "*Формат ввода:* <br>\n",
    "12<br>\n",
    "3<br>\n",
    "10<br><br>\n",
    "\n",
    "*Формат вывода:* <br>\n",
    "16"
   ]
  },
  {
   "cell_type": "code",
   "execution_count": 32,
   "metadata": {
    "colab": {},
    "colab_type": "code",
    "id": "mXeF6AMWPzZl"
   },
   "outputs": [
    {
     "name": "stdout",
     "output_type": "stream",
     "text": [
      "Введите конечную дистанцию, км: 12\n",
      "Введите начальную дистанцию, км: 3\n",
      "Введите планируемый прогресс в день, %: 10\n"
     ]
    }
   ],
   "source": [
    "### YOUR CODE HERE ###\n",
    "distance = int(input(\"Введите конечную дистанцию, км: \"))\n",
    "start = int(input(\"Введите начальную дистанцию, км: \"))\n",
    "progress = int(input(\"Введите планируемый прогресс в день, %: \"))"
   ]
  },
  {
   "cell_type": "code",
   "execution_count": 33,
   "metadata": {},
   "outputs": [
    {
     "name": "stdout",
     "output_type": "stream",
     "text": [
      "16\n"
     ]
    }
   ],
   "source": [
    "i = 1\n",
    "s = start\n",
    "while s <= distance:\n",
    "    k = s * 0.01 * progress\n",
    "    s += k\n",
    "    i += 1\n",
    "print(i)"
   ]
  },
  {
   "cell_type": "markdown",
   "metadata": {
    "colab_type": "text",
    "id": "sxKoWpYKPzZo"
   },
   "source": [
    "### 8\n",
    "\n",
    "Напишите программу, которая на вход получает число n и считает по нему сумму 1²+2²+3²+...+n².\n",
    "<br><br>\n",
    "*Ограничение: нельзя пользоваться функцией `sum()` и её аналогами.*\n",
    "\n",
    "*Формат ввода:* <br>\n",
    "3<br><br>\n",
    "\n",
    "*Формат вывода:* <br>\n",
    "14"
   ]
  },
  {
   "cell_type": "code",
   "execution_count": 74,
   "metadata": {
    "colab": {},
    "colab_type": "code",
    "id": "RiPlWLm6PzZp"
   },
   "outputs": [
    {
     "name": "stdout",
     "output_type": "stream",
     "text": [
      "Введите число: 3\n",
      "14\n"
     ]
    }
   ],
   "source": [
    "### YOUR CODE HERE ###\n",
    "number = int(input(\"Введите число: \"))\n",
    "i = 0\n",
    "k = 0\n",
    "while i <= number:\n",
    "    x = i ** 2\n",
    "    k += x\n",
    "    i += 1\n",
    "else:\n",
    "    print(k)"
   ]
  },
  {
   "cell_type": "markdown",
   "metadata": {
    "colab_type": "text",
    "id": "aXzG4-wdPzZr"
   },
   "source": [
    "## 9\n",
    "\n",
    "Напишите программу, которая на вход получает число n и считает по нему сумму сумму 1! + 2! + 3! + ... + n!\n",
    "<br><br>\n",
    "*Ограничение: нельзя пользоваться готовой функцией `factorial()` из модуля `math`, функцией `sum()` и их аналогами.*\n",
    "\n",
    "*Формат ввода:* <br>\n",
    "3<br><br>\n",
    "\n",
    "*Формат вывода:* <br>\n",
    "9"
   ]
  },
  {
   "cell_type": "code",
   "execution_count": 43,
   "metadata": {
    "colab": {},
    "colab_type": "code",
    "id": "KBEXUEDQPzZs"
   },
   "outputs": [
    {
     "name": "stdout",
     "output_type": "stream",
     "text": [
      "Введите число: 4\n",
      "33\n"
     ]
    }
   ],
   "source": [
    "### YOUR CODE HERE ###\n",
    "number = int(input(\"Введите число: \"))\n",
    "factorial = 1\n",
    "summ = 0\n",
    "for i in range(1, number + 1):\n",
    "        factorial *= i\n",
    "        summ += factorial\n",
    "else:\n",
    "    print(summ)"
   ]
  },
  {
   "cell_type": "markdown",
   "metadata": {
    "colab_type": "text",
    "id": "4nsOuiWVPzZu"
   },
   "source": [
    "### 10\n",
    "\n",
    "Напишите программу, которая получает на вход последовательность чисел (каждое число с новой строки до того момента, пока пользователь не введёт 0) и считает количество чётных элементов в последовательности.\n",
    "<br><br>\n",
    "*Формат ввода:* <br>\n",
    "5<br>\n",
    "4<br>\n",
    "2<br>\n",
    "7<br>\n",
    "8<br>\n",
    "9<br>\n",
    "0<br><br>\n",
    "\n",
    "*Формат вывода:* <br>\n",
    "3"
   ]
  },
  {
   "cell_type": "code",
   "execution_count": 1,
   "metadata": {
    "colab": {},
    "colab_type": "code",
    "id": "xktF2cocPzZv"
   },
   "outputs": [
    {
     "name": "stdout",
     "output_type": "stream",
     "text": [
      "3\n",
      "3\n",
      "5\n",
      "9\n",
      "0\n",
      "Конец цикла\n"
     ]
    }
   ],
   "source": [
    "### YOUR CODE HERE ###\n",
    "f1 = []\n",
    "i = True\n",
    "while i != 0:\n",
    "    if i == 0:\n",
    "        print(i)\n",
    "        break\n",
    "    i = int(input())\n",
    "    if i: f1.append(i)\n",
    "else:\n",
    "    print(\"Конец цикла\")"
   ]
  },
  {
   "cell_type": "code",
   "execution_count": 2,
   "metadata": {},
   "outputs": [
    {
     "name": "stdout",
     "output_type": "stream",
     "text": [
      "0\n",
      "Нет четных чисел\n"
     ]
    }
   ],
   "source": [
    "n = f1[0]\n",
    "summ = 0\n",
    "for i in (f1):\n",
    "    if i != 0:\n",
    "        if i % 2 == 0:\n",
    "            summ += 1\n",
    "print(summ)\n",
    "if summ == 0:\n",
    "    print(\"Нет четных чисел\")"
   ]
  },
  {
   "cell_type": "code",
   "execution_count": 6,
   "metadata": {},
   "outputs": [
    {
     "name": "stdout",
     "output_type": "stream",
     "text": [
      "Введите число: 4\n",
      "Введите число: 5\n",
      "Введите число: 9\n",
      "Введите число: 0\n",
      "1\n"
     ]
    }
   ],
   "source": [
    "#От преподавателя\n",
    "count = 0\n",
    "while (True):\n",
    "    x = int(input('Введите число: '))\n",
    "    if x == 0:\n",
    "        break\n",
    "    if x % 2 == 0:\n",
    "        count += 1\n",
    "print(count)"
   ]
  },
  {
   "cell_type": "markdown",
   "metadata": {
    "colab_type": "text",
    "id": "hyC9QGXPPzZx"
   },
   "source": [
    "### 11\n",
    "\n",
    "Напишите программу, которая формирует список игроков женской команды по мини-футболу. Программа должна записывать возраст и пол претендента. Возраст должен запрашиваться после пола и только в том случае, если пол претендента женский. Если пол претендента мужской, программа должна сообщать о том, что он не подходит. Возраст претенденток должен быть от 18 до 35 лет. Если кандидат удовлетворяет требованиям, должно появляться соответствующее сообщение. Всего в команде могут быть только шесть человек. Когда необходимое число набирается, запись закрывается и выводится сообщение «Запись в команду закрыта».\n"
   ]
  },
  {
   "cell_type": "code",
   "execution_count": 74,
   "metadata": {
    "colab": {},
    "colab_type": "code",
    "id": "qSDK-zQ4PzZx"
   },
   "outputs": [
    {
     "name": "stdout",
     "output_type": "stream",
     "text": [
      "Введите фамилию кандидата: Иванова\n",
      "Введите пол претендетна в формате м или ж: ж\n",
      "Введите возраст претендетна: 19\n",
      "Кандидат удовлетворяет требованиям\n",
      "Введите фамилию кандидата: Петрова\n",
      "Введите пол претендетна в формате м или ж: ж\n",
      "Введите возраст претендетна: 20\n",
      "Кандидат удовлетворяет требованиям\n",
      "Введите фамилию кандидата: Сидорова\n",
      "Введите пол претендетна в формате м или ж: ж\n",
      "Введите возраст претендетна: 21\n",
      "Кандидат удовлетворяет требованиям\n",
      "Введите фамилию кандидата: Роналду\n",
      "Введите пол претендетна в формате м или ж: ж\n",
      "Введите возраст претендетна: 22\n",
      "Кандидат удовлетворяет требованиям\n",
      "Введите фамилию кандидата: Месси\n",
      "Введите пол претендетна в формате м или ж: ж\n",
      "Введите возраст претендетна: 23\n",
      "Кандидат удовлетворяет требованиям\n",
      "Введите фамилию кандидата: Онопко\n",
      "Введите пол претендетна в формате м или ж: ж\n",
      "Введите возраст претендетна: 24\n",
      "Кандидат удовлетворяет требованиям\n",
      "\n",
      "Запись в команду закрыта, требуемое количество игроков:  6\n",
      "1. Иванова ж 19\n",
      "2. Петрова ж 20\n",
      "3. Сидорова ж 21\n",
      "4. Роналду ж 22\n",
      "5. Месси ж 23\n",
      "6. Онопко ж 24\n"
     ]
    }
   ],
   "source": [
    "### YOUR CODE HERE ###\n",
    "player = []\n",
    "sex = True\n",
    "age = True\n",
    "name = True\n",
    "number = 0\n",
    "while number != 6:\n",
    "    # запрос фамилии\n",
    "    name = input(\"Введите фамилию кандидата: \")\n",
    "    if name: player.append(name)\n",
    "    \n",
    "    # запрос пола\n",
    "    sex = str(input(\"Введите пол претендетна в формате м или ж: \"))\n",
    "    if str(sex) != (\"ж\"):\n",
    "        print(\"Пол претендента должен быть женским\")\n",
    "        break\n",
    "    if sex: player.append(sex)\n",
    "   \n",
    "    # запрос возраста\n",
    "    age = int(input(\"Введите возраст претендетна: \"))\n",
    "    if (int(age) > int(35)) or (int(age) < int(18)):\n",
    "        print(\"Возраст претендента должен быть от 18 до 35 лет\")\n",
    "        break\n",
    "    if age: player.append(age)\n",
    "    print(\"Кандидат удовлетворяет требованиям\")\n",
    "    number += 1\n",
    "else:\n",
    "    if number == 6:\n",
    "        print('\\n'\"Запись в команду закрыта, требуемое количество игроков: \", number)\n",
    "        print(\"1.\", player[0], player[1], player[2])\n",
    "        print(\"2.\", player[3], player[4], player[5])\n",
    "        print(\"3.\", player[6], player[7], player[8])\n",
    "        print(\"4.\", player[9], player[10], player[11])\n",
    "        print(\"5.\", player[12], player[13], player[14])\n",
    "        print(\"6.\", player[15], player[16], player[17])"
   ]
  },
  {
   "cell_type": "markdown",
   "metadata": {
    "colab_type": "text",
    "id": "B4JAB8AqPzZ0"
   },
   "source": [
    "### 12\n",
    "\n",
    "\n",
    "Напишите программу, которая на вход получает максимальную ширину ромба и рисует его. Гарантируется, что входное число всегда нечётное.\n",
    "<br><br>\n",
    "\n",
    "*Формат ввода:* <br>\n",
    "5<br><br>\n",
    "\n",
    "*Формат вывода:* <br>\n",
    "```  \n",
    "  *\n",
    " ***\n",
    "*****\n",
    " ***\n",
    "  *```"
   ]
  },
  {
   "cell_type": "markdown",
   "metadata": {
    "colab_type": "text",
    "id": "74kwD7s7B1S6"
   },
   "source": [
    "**Рекомендации к выполнению задания:** Внимательно изучите рисунок из примера, попробуйте заметить закономерность, по которой он строится."
   ]
  },
  {
   "cell_type": "code",
   "execution_count": 102,
   "metadata": {
    "colab": {},
    "colab_type": "code",
    "id": "WVp7O75oPzZ0"
   },
   "outputs": [
    {
     "name": "stdout",
     "output_type": "stream",
     "text": [
      "Введите ширину ромба: 11\n",
      "     *\n",
      "    ***\n",
      "   *****\n",
      "  *******\n",
      " *********\n",
      "***********\n",
      " *********\n",
      "  *******\n",
      "   *****\n",
      "    ***\n",
      "     *\n"
     ]
    }
   ],
   "source": [
    "### YOUR CODE HERE ###\n",
    "width = int(input(\"Введите ширину ромба: \"))\n",
    "if width % 2 == 0:\n",
    "    print(\"Число должно быть нечётным\")\n",
    "for i in range(1, width, 2):\n",
    "    space = int((width) - i) // 2\n",
    "    fig = space * \" \" + i * \"*\"\n",
    "    print(fig)\n",
    "for i in range(width, 0, -2):\n",
    "    space = int((width) - i) // 2\n",
    "    fig1 = space * \" \" + i * \"*\"\n",
    "    print(fig1)"
   ]
  },
  {
   "cell_type": "markdown",
   "metadata": {
    "colab_type": "text",
    "id": "xrIXWj0yPzZ2"
   },
   "source": [
    "### 13\n",
    "\n",
    "Напишите программу, которая запрашивает у пользователя сторону квадрата и символ, а затем рисует этот символ по диагоналям квадрата. Гарантируется, что входное число всегда нечётное.\n",
    "<br><br>\n",
    "\n",
    "*Формат ввода:* <br>\n",
    "5<br>\n",
    "\\#<br><br>\n",
    "\n",
    "*Формат вывода:* <br>\n",
    "```\n",
    " \n",
    "#   #\n",
    " # #\n",
    "  #  \n",
    " # #\n",
    "#   #\n",
    "```"
   ]
  },
  {
   "cell_type": "markdown",
   "metadata": {
    "colab_type": "text",
    "id": "ITzL6HrwB1S9"
   },
   "source": [
    "**Рекомендации к выполнению задания:** внимательно изучите рисунок из примера, попробуйте заметить закономерность, по которой он строится."
   ]
  },
  {
   "cell_type": "code",
   "execution_count": 169,
   "metadata": {
    "colab": {},
    "colab_type": "code",
    "id": "oUKNB9TaPzZ3"
   },
   "outputs": [
    {
     "name": "stdout",
     "output_type": "stream",
     "text": [
      "Введите сторону квадрата, нечётное число: 7\n",
      "Введите символ: *\n",
      "*     *\n",
      " *   *\n",
      "  * *\n",
      "   *\n",
      "  * *\n",
      " *   *\n",
      "*     *\n"
     ]
    }
   ],
   "source": [
    "### YOUR CODE HERE ###\n",
    "side = int(input(\"Введите сторону квадрата, нечётное число: \"))\n",
    "if side % 2 == 0:\n",
    "    print(\"Число должно быть нечётным\")\n",
    "symbol = input(\"Введите символ: \")\n",
    "for i in range(side, 1, -2):\n",
    "    space = int((side) - i) // 2\n",
    "    fig1 = space * \" \" + symbol + (i - 2) * \" \" + symbol * (i != 1)\n",
    "    print(fig1)\n",
    "for i in range(1, side + 1, 2):\n",
    "    space = int((side) - i) // 2\n",
    "    fig2 = space * \" \" + symbol + (i - 2) * \" \" + symbol * (i != 1)\n",
    "    print(fig2)"
   ]
  },
  {
   "cell_type": "markdown",
   "metadata": {
    "colab_type": "text",
    "id": "3GaiPsFYPzZ_"
   },
   "source": [
    "### 14\n",
    "\n",
    "В корзине лежат шары. Если разложить их в кучи по два, останется один. Если разложить в кучи по три, останется один. Если разложить в кучи по четыре, останется один. Если разложить в кучи по пять, останется один. Если разложить в кучи по шесть, останется один. Если разложить в кучи по семь, не будет остатка. Нужно найти минимальное количество шаров, удовлетворяющее условию.  <br>"
   ]
  },
  {
   "cell_type": "code",
   "execution_count": 49,
   "metadata": {
    "colab": {},
    "colab_type": "code",
    "id": "V2msEhQkPzZ_"
   },
   "outputs": [
    {
     "name": "stdout",
     "output_type": "stream",
     "text": [
      "Правильный ответ:  301\n",
      "Всего итераций:  295\n"
     ]
    }
   ],
   "source": [
    "### YOUR CODE HERE ###\n",
    "num1, count = 0, 0\n",
    "for num1 in range(7, 1000):\n",
    "    count += 1\n",
    "    if num1 % 2 == 1:\n",
    "        if num1 % 3 == 1:\n",
    "            if num1 % 4 == 1:\n",
    "                if num1 % 5 == 1:\n",
    "                    if num1 % 6 == 1:\n",
    "                        if num1 % 7 == 0:\n",
    "                            break\n",
    "print(\"Правильный ответ: \", num1)\n",
    "print(\"Всего итераций: \", count)"
   ]
  },
  {
   "cell_type": "markdown",
   "metadata": {
    "colab_type": "text",
    "id": "5pOjlON-PzaC"
   },
   "source": [
    "### 15\n",
    "\n",
    "Рабочие клеили обои на стены. Первую стену поклеили за M минут, а каждую следующую клеили на пять минут дольше, чем предыдущую.\n",
    "Напишите программу, которая запрашивает, сколько стен было в квартире под поклейку, а также время работы с первой стеной в минутах. Программа должна выводить, сколько **часов** рабочие потратили на поклейку обоев во всей квартире. Час отсчитывается с первой минуты. Ответом должно быть целое число. \n",
    "<br><br>\n",
    "*Ограничение: нельзя пользоваться готовыми функциями `bool()`, `floor()` и их аналогами.*\n",
    "<br><br>\n",
    "*Формат ввода:* <br>\n",
    "6<br>\n",
    "10<br><br>\n",
    "\n",
    "*Формат вывода:* <br>\n",
    "3"
   ]
  },
  {
   "cell_type": "code",
   "execution_count": 53,
   "metadata": {
    "colab": {},
    "colab_type": "code",
    "id": "Pmu96rWGPzaD"
   },
   "outputs": [
    {
     "name": "stdout",
     "output_type": "stream",
     "text": [
      "Введите количество стен: 6\n",
      "Введите время работы с первой стеной, мин: 10\n",
      "Поклейка всех стен займёт, ч:  3\n"
     ]
    }
   ],
   "source": [
    "### YOUR CODE HERE ###\n",
    "walls = int(input(\"Введите количество стен: \"))\n",
    "time_1 = int(input(\"Введите время работы с первой стеной, мин: \"))\n",
    "\n",
    "time = time_1\n",
    "for i in range(1, walls + 1):\n",
    "    if i != walls:\n",
    "        time += 5\n",
    "        time_1 += time\n",
    "itog = time_1 / 60\n",
    "import math\n",
    "print(\"Поклейка всех стен займёт, ч: \", math.ceil(itog))"
   ]
  },
  {
   "cell_type": "markdown",
   "metadata": {
    "colab_type": "text",
    "id": "63C6Za3CPzaF"
   },
   "source": [
    "### 16\n",
    "\n",
    "Напишите программу, которая убирает из списка повторяющиеся элементы. Программа должна запрашивать на вход слова, каждое с новой строки, пока пользователь не введёт пустую строку. Затем должна выводить список без повторяющихся элементов. \n",
    "<br><br>\n",
    "*Ограничение: нельзя пользоваться готовой функцией `set()` и её аналогами.*\n",
    "\n",
    "<br><br>\n",
    "*Формат ввода:* <br>\n",
    "Алиса<br>\n",
    "Алиса<br>\n",
    "Алиса<br>\n",
    "Петя<br>\n",
    "<br><br>\n",
    "\n",
    "*Формат вывода:* <br>\n",
    "[Алиса, Петя]"
   ]
  },
  {
   "cell_type": "markdown",
   "metadata": {
    "colab_type": "text",
    "id": "xwewurzYB1TF"
   },
   "source": [
    "**Рекомендации к выполнению задания:** попробуйте использовать проверку на включённость."
   ]
  },
  {
   "cell_type": "code",
   "execution_count": 7,
   "metadata": {
    "colab": {},
    "colab_type": "code",
    "id": "MQ-eDkbAPzaG"
   },
   "outputs": [
    {
     "name": "stdout",
     "output_type": "stream",
     "text": [
      "Введите слово: Ян\n",
      "Введите слово: Ольга\n",
      "Введите слово: Ян\n",
      "Введите слово: Ольга\n",
      "Введите слово: Ольга\n",
      "Введите слово: Ян\n",
      "Введите слово: Андрей\n",
      "Введите слово: \n",
      "['Ян', 'Ольга', 'Андрей']\n"
     ]
    }
   ],
   "source": [
    "### YOUR CODE HERE ###\n",
    "f1 = []\n",
    "data = True\n",
    "while data != \"\":\n",
    "    data = str(input(\"Введите слово: \"))\n",
    "    if data in f1:\n",
    "        continue\n",
    "    if data: f1.append(data)\n",
    "else:\n",
    "    print(f1)\n"
   ]
  },
  {
   "cell_type": "markdown",
   "metadata": {
    "colab_type": "text",
    "id": "jueSDORaPzaI"
   },
   "source": [
    "### 17\n",
    "\n",
    "Напишите программу, которая выводит число пар одинаковых элементов в списке. При этом, если два элемента образовали пару, они не могут вступить в пару с другими элементами. Программа должна запрашивать на вход слова, каждое с новой строки, пока пользователь не введёт пустую строку. \n",
    "<br><br>\n",
    "*Формат ввода:* <br>\n",
    "Алиса<br>\n",
    "Алиса<br>\n",
    "Алиса<br>\n",
    "<br><br>\n",
    "\n",
    "*Формат вывода:* <br>\n",
    "1"
   ]
  },
  {
   "cell_type": "markdown",
   "metadata": {
    "colab_type": "text",
    "id": "gpQuU1lnB1TH"
   },
   "source": [
    "**Рекомендации к выполнению задания:** попробуйте использовать проверку на включённость."
   ]
  },
  {
   "cell_type": "code",
   "execution_count": 122,
   "metadata": {
    "colab": {},
    "colab_type": "code",
    "id": "49tbEr3NPzaJ"
   },
   "outputs": [
    {
     "name": "stdout",
     "output_type": "stream",
     "text": [
      "Введите слово: Ян\n",
      "Введите слово: Алиса\n",
      "Введите слово: Ян\n",
      "Введите слово: Андрей\n",
      "Введите слово: Алиса\n",
      "Введите слово: Алиса\n",
      "Введите слово: Андрей\n",
      "Введите слово: \n",
      "3\n"
     ]
    }
   ],
   "source": [
    "### YOUR CODE HERE ###\n",
    "f1 = []\n",
    "data = True\n",
    "i = 0\n",
    "while data != \"\":\n",
    "    data = str(input(\"Введите слово: \"))\n",
    "    if data: f1.append(data)\n",
    "    if data in f1:\n",
    "        count = f1.count(data)\n",
    "        if count % 2 == 0:\n",
    "            i += 1\n",
    "else:\n",
    "    print(int(i))"
   ]
  },
  {
   "cell_type": "markdown",
   "metadata": {
    "colab_type": "text",
    "id": "yVLcBrD-PzaN"
   },
   "source": [
    "### 18\n",
    "\n",
    "Будем считать, что кубик может иметь неограниченное количество граней (натуральное число). Напишите программу, которая запрашивает, сколько граней имеется у двух разных кубиков. Затем выводит все возможные комбинации результатов бросков двух таких кубиков. \n",
    "<br><br>\n",
    "*Формат ввода:* <br>\n",
    "3<br>\n",
    "4<br><br>\n",
    "\n",
    "*Формат вывода:* <br>\n",
    "1 1<br>\n",
    "1 2<br>\n",
    "1 3<br>\n",
    "1 4<br>\n",
    "2 1<br>\n",
    "2 2<br>\n",
    "2 3<br>\n",
    "2 4<br>\n",
    "3 1<br>\n",
    "3 2<br>\n",
    "3 3<br>\n",
    "3 4<br>"
   ]
  },
  {
   "cell_type": "markdown",
   "metadata": {
    "colab_type": "text",
    "id": "5aAs5EsFB1TK"
   },
   "source": [
    "**Рекомендации к выполнению задания:** попробуйте использовать вложенные циклы."
   ]
  },
  {
   "cell_type": "code",
   "execution_count": 52,
   "metadata": {
    "colab": {},
    "colab_type": "code",
    "id": "7I2va0KwPzaR"
   },
   "outputs": [
    {
     "name": "stdout",
     "output_type": "stream",
     "text": [
      "Введите количество граней первого кубика: 4\n",
      "Введите количество граней второго кубика: 5\n",
      "1 1\n",
      "1 2\n",
      "1 3\n",
      "1 4\n",
      "1 5\n",
      "2 1\n",
      "2 2\n",
      "2 3\n",
      "2 4\n",
      "2 5\n",
      "3 1\n",
      "3 2\n",
      "3 3\n",
      "3 4\n",
      "3 5\n",
      "4 1\n",
      "4 2\n",
      "4 3\n",
      "4 4\n",
      "4 5\n",
      "Все возможные комбинации\n"
     ]
    }
   ],
   "source": [
    "### YOUR CODE HERE ###\n",
    "cube_1 = int(input(\"Введите количество граней первого кубика: \"))\n",
    "cube_2 = int(input(\"Введите количество граней второго кубика: \"))\n",
    "\n",
    "i = 1\n",
    "n = 1\n",
    "for i in range(1, cube_1 + 1):\n",
    "    for n in range(1, cube_2 + 1):\n",
    "        print(i, n)\n",
    "        n += 1\n",
    "    i += 1\n",
    "else:\n",
    "    print(\"Все возможные комбинации\")"
   ]
  },
  {
   "cell_type": "code",
   "execution_count": null,
   "metadata": {},
   "outputs": [],
   "source": []
  }
 ],
 "metadata": {
  "colab": {
   "collapsed_sections": [],
   "name": "jun_anl_loops_and_ifs.ipynb",
   "provenance": []
  },
  "kernelspec": {
   "display_name": "Python 3",
   "language": "python",
   "name": "python3"
  },
  "language_info": {
   "codemirror_mode": {
    "name": "ipython",
    "version": 3
   },
   "file_extension": ".py",
   "mimetype": "text/x-python",
   "name": "python",
   "nbconvert_exporter": "python",
   "pygments_lexer": "ipython3",
   "version": "3.8.3"
  }
 },
 "nbformat": 4,
 "nbformat_minor": 1
}
