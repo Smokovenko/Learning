{
 "cells": [
  {
   "cell_type": "markdown",
   "metadata": {
    "colab_type": "text",
    "id": "RbR5OTe50Za4"
   },
   "source": [
    "# Классы\n",
    "## Домашнее задание"
   ]
  },
  {
   "cell_type": "markdown",
   "metadata": {
    "colab_type": "text",
    "id": "Xh_DBCdu0Za5"
   },
   "source": [
    "### Вопросы по лекциям\n",
    "\n",
    "#### 1.\n",
    "\n",
    "Напишите название функции, которая является конструктором класса."
   ]
  },
  {
   "cell_type": "markdown",
   "metadata": {
    "colab_type": "text",
    "id": "8-Tj4AMg0Za6"
   },
   "source": [
    "**Ответ:**\n",
    "def__init__(self)"
   ]
  },
  {
   "cell_type": "markdown",
   "metadata": {
    "colab_type": "text",
    "id": "lf14yx330Za7"
   },
   "source": [
    "#### 2.\n",
    "\n",
    "На что указывает переменная `self`?"
   ]
  },
  {
   "cell_type": "markdown",
   "metadata": {
    "colab_type": "text",
    "id": "wI-0FWlF0Za8"
   },
   "source": [
    "**Ответ:**\n",
    "на свой объект в методе"
   ]
  },
  {
   "cell_type": "markdown",
   "metadata": {
    "colab_type": "text",
    "id": "j_8_O_nl0Za8"
   },
   "source": [
    "#### 3.\n",
    "С помощью какой функции можно проверить, что некая строка является именем одного из атрибутов объекта?"
   ]
  },
  {
   "cell_type": "markdown",
   "metadata": {
    "colab_type": "text",
    "id": "5h8ASTrV0Za9"
   },
   "source": [
    "**Ответ:**\n",
    "hasattr(object, name)"
   ]
  },
  {
   "cell_type": "markdown",
   "metadata": {
    "colab_type": "text",
    "id": "G104VWgj0Za-"
   },
   "source": [
    "#### 4.\n",
    "Когда вызывается метод `__del__`? (относительно события удаления объекта)"
   ]
  },
  {
   "cell_type": "markdown",
   "metadata": {
    "colab_type": "text",
    "id": "Ukzoyxkn0Za-"
   },
   "source": [
    "**Ответ:**\n",
    "вызывается перед уничтожением объекта"
   ]
  },
  {
   "cell_type": "markdown",
   "metadata": {
    "colab_type": "text",
    "id": "MkF-HyBM0ZbA"
   },
   "source": [
    "#### 5.\n",
    "Верно ли, что атрибут класса перекрывает атрибут объекта?"
   ]
  },
  {
   "cell_type": "markdown",
   "metadata": {
    "colab_type": "text",
    "id": "o7B52kVt0ZbC"
   },
   "source": [
    "**Ответ:**\n",
    "нет, \n",
    "атрибут объекта перекрывает атрибут класса. \n",
    "Если он не задан в самом объекте, то только в этом случае для объекта принимается атрибут класса"
   ]
  },
  {
   "cell_type": "markdown",
   "metadata": {
    "colab_type": "text",
    "id": "kSwZWV2B0ZbC"
   },
   "source": [
    "#### 6.\n",
    "Можно ли атрибуты базового класса вызывать в дочернем классе? Если да, то напишите, нет ли исклчений?"
   ]
  },
  {
   "cell_type": "markdown",
   "metadata": {
    "colab_type": "text",
    "id": "6i74Koih0ZbE"
   },
   "source": [
    "**Ответ:**\n",
    "можно, при этом нужно обращаться к атрибутам класса с указанием его имени - ИмяКласса.атрибут"
   ]
  },
  {
   "cell_type": "markdown",
   "metadata": {
    "colab_type": "text",
    "id": "tl1St2O20ZbE"
   },
   "source": [
    "#### 7.\n",
    "Объясните своими словами для чего нужен метод `super`."
   ]
  },
  {
   "cell_type": "markdown",
   "metadata": {
    "colab_type": "text",
    "id": "rg3u1PoY0ZbF"
   },
   "source": [
    "**Ответ:**\n",
    "для дополнения атрибутов родительского класса атрибутами присущими конкретному объекту"
   ]
  },
  {
   "cell_type": "markdown",
   "metadata": {
    "colab_type": "text",
    "id": "5AiJn8ut0ZbG"
   },
   "source": [
    "### Практика\n",
    "\n",
    "1. Напишите класс `Fraction` для работы с дробями. Пусть дробь в нашем классе предстает в виде `числитель/знаменатель`. Дробное число должно создаваться по запросу `Fraction(a, b)`, где `a` – это числитель, а `b` – знаменатель дроби. \n",
    "2. Добавьте возможность сложения (сложения через оператор сложения) для дроби. Предполагается, что операция сложения может проводиться как только между дробями, так и между дробью и целым числом. Результат операции должен быть представлен в виде дроби.\n",
    "3. Добавьте возможность взятия разности (вычитания через оператор вычитания) для дробей. Предполагается, что операция вычитания может проводиться как только для двух дробей, так и для дроби и целого числа. Результат операции должен быть представлен в виде дроби.\n",
    "4. Добавьте возможность умножения (умножения через оператор умножения) для дробей. Предполагается, что операция умножения может проводиться как только для двух дробей, так и для дроби и целого числа. Результат операции должен быть представлен в виде дроби.\n",
    "5. Добавьте возможность приведения дроби к целому числу через стандартную функцию `int()`.\n",
    "6. Добавьте возможность приведения дроби к числу с плавающей точкой через стандартную функцию `float()`.\n",
    "7. Создайте дочерний класс `OperationsOnFraction` и добавьте туда собственные методы `getint` и `getfloat`, которые будут возвращать целую часть дроби и представление дроби в виде числа с плавающей точкой соответственно. \n",
    " "
   ]
  },
  {
   "cell_type": "code",
   "execution_count": 5,
   "metadata": {
    "colab": {},
    "colab_type": "code",
    "id": "ru3BJ52J0ZbG"
   },
   "outputs": [
    {
     "name": "stdout",
     "output_type": "stream",
     "text": [
      "3 / 8\n"
     ]
    },
    {
     "data": {
      "text/plain": [
       "<__main__.Fraction at 0x6a5bf56220>"
      ]
     },
     "execution_count": 5,
     "metadata": {},
     "output_type": "execute_result"
    }
   ],
   "source": [
    "### YOUR CODE HERE ###\n",
    "class Fraction:\n",
    "    def __init__(self, a, b):\n",
    "        print(a, \"/\", b)\n",
    "Fraction(3, 8)"
   ]
  },
  {
   "cell_type": "code",
   "execution_count": 6,
   "metadata": {},
   "outputs": [
    {
     "name": "stdout",
     "output_type": "stream",
     "text": [
      "10/3\n",
      "-88\n",
      "-87.76388888888889\n"
     ]
    }
   ],
   "source": [
    "class Fraction:\n",
    "    def __init__(self, a, b):\n",
    "        self.a = a\n",
    "        self.b = b\n",
    "#        print(str(a) + \"/\" + str(b))\n",
    "              \n",
    "    def __add__(self, other):\n",
    "        if isinstance (other, int):\n",
    "            return Fraction(self.a + other * self.b, self.b)\n",
    "        if isinstance (other, Fraction):\n",
    "            return Fraction(self.a * other.b + self.b * other.a, self.b * other.b)\n",
    "        \n",
    "    def __sub__(self, other):\n",
    "        if isinstance (other, int):\n",
    "            return Fraction(self.a - self.b * other, self.b)\n",
    "        if isinstance (other, Fraction):\n",
    "            return Fraction(self.a * other.b - self.b * other.a, self.b * other.b)\n",
    "        \n",
    "    def __mul__(self, other):\n",
    "        if isinstance (other, int):\n",
    "            return Fraction(self.a * other, self.b)\n",
    "        if isinstance (other, Fraction):\n",
    "            return Fraction(self.a * other.a, self.b * other.b)\n",
    "    \n",
    "    def __radd__(self, other):\n",
    "        if isinstance (other, int):\n",
    "            return Fraction(self.a + other * self.b, self.b)\n",
    "        if isinstance (other, Fraction):\n",
    "            return Fraction(self.a * other.b + self.b * other.a, self.b * other.b)\n",
    "        \n",
    "    def __rsub__(self, other):\n",
    "        if isinstance (other, int):\n",
    "            return Fraction(self.a - self.b * other, self.b)\n",
    "        if isinstance (other, Fraction):\n",
    "            return Fraction(self.a * other.b - self.b * other.a, self.b * other.b)\n",
    "        \n",
    "    def __rmul__(self, other):\n",
    "        if isinstance (other, int):\n",
    "            return Fraction(self.a * other, self.b)\n",
    "        if isinstance (other, Fraction):\n",
    "            return Fraction(self.a * other.a, self.b * other.b)\n",
    "    \n",
    "    def __int__(self):\n",
    "        return(self.a//self.b)\n",
    "    \n",
    "    def __float__(self):\n",
    "        return(self.a/self.b)\n",
    "    \n",
    "    def __str__(self):\n",
    "        return \"{}/{}\".format(self.a, self.b)\n",
    "\n",
    "class OperationsOnFraction(Fraction):\n",
    "    \n",
    "    def getint(self):\n",
    "        return(super().__int__())\n",
    "    \n",
    "    def getfloat(self):\n",
    "        return(super().__float__())    \n",
    "\n",
    "\n",
    "m = Fraction(10, 3)\n",
    "n = Fraction(10, 3)\n",
    "f = OperationsOnFraction(9, 8)\n",
    "c = 100 - m * n + f\n",
    "print(n)\n",
    "print(int(c))\n",
    "print(float(c))"
   ]
  }
 ],
 "metadata": {
  "colab": {
   "collapsed_sections": [],
   "name": "jun_anl_class.ipynb",
   "provenance": []
  },
  "kernelspec": {
   "display_name": "Python 3",
   "language": "python",
   "name": "python3"
  },
  "language_info": {
   "codemirror_mode": {
    "name": "ipython",
    "version": 3
   },
   "file_extension": ".py",
   "mimetype": "text/x-python",
   "name": "python",
   "nbconvert_exporter": "python",
   "pygments_lexer": "ipython3",
   "version": "3.8.5"
  }
 },
 "nbformat": 4,
 "nbformat_minor": 1
}
